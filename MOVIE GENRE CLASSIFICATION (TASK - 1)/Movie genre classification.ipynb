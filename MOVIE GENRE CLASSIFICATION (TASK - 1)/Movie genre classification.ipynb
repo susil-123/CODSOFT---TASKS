{
 "cells": [
  {
   "cell_type": "code",
   "execution_count": 1,
   "id": "83104a47-de4b-4220-8634-4f15cabd39d9",
   "metadata": {},
   "outputs": [],
   "source": [
    "import re\n",
    "import pickle\n",
    "import pandas as pd\n",
    "import numpy as np\n",
    "import seaborn as sns\n",
    "from tqdm import tqdm\n",
    "import matplotlib.pyplot as plt\n",
    "from sklearn.preprocessing import LabelEncoder\n",
    "label_encoder = LabelEncoder()\n",
    "from nltk.corpus import stopwords\n",
    "from nltk.tokenize import word_tokenize\n",
    "from nltk.stem import WordNetLemmatizer\n",
    "from sklearn.model_selection import train_test_split\n",
    "wnl = WordNetLemmatizer()\n",
    "from sklearn.feature_extraction.text import TfidfVectorizer\n",
    "vectorizer =TfidfVectorizer(max_features=5000)\n",
    "from sklearn.metrics import accuracy_score"
   ]
  },
  {
   "cell_type": "code",
   "execution_count": 2,
   "id": "8ad18620-6a80-431d-9b35-67dc43b9627d",
   "metadata": {},
   "outputs": [],
   "source": [
    "with open('./Genre Classification Dataset/train_data.txt','r',encoding='utf-8') as fileobj:\n",
    "    train = fileobj.readlines()\n",
    "with open('./Genre Classification Dataset/test_data.txt','r',encoding='utf-8') as fileobj:\n",
    "    test_X = fileobj.readlines()\n",
    "with open('./Genre Classification Dataset/test_data_solution.txt','r',encoding='utf-8') as fileobj:\n",
    "    test_y = fileobj.readlines()"
   ]
  },
  {
   "cell_type": "code",
   "execution_count": 3,
   "id": "35d298bc-6d24-4ff9-bf53-2abbce1a6367",
   "metadata": {},
   "outputs": [],
   "source": [
    "train_rows = []\n",
    "for i in train:\n",
    "    train_rows.append(i.split(':::'))\n",
    "test_X_rows = []\n",
    "for i in test_X:\n",
    "    test_X_rows.append(i.split(':::'))\n",
    "test_y_rows = []\n",
    "for i in test_y:\n",
    "    test_y_rows.append(i.split(':::'))"
   ]
  },
  {
   "cell_type": "code",
   "execution_count": 4,
   "id": "123c2b42-206b-4779-a59e-6fcc8d7278da",
   "metadata": {},
   "outputs": [],
   "source": [
    "train_df = pd.DataFrame(train_rows,columns=['ID','TITLE','GENRE','DESCRIPTION'])\n",
    "test_X_df = pd.DataFrame(test_X_rows,columns=['ID','TITLE','DESCRIPTION'])\n",
    "test_y_df = pd.DataFrame(test_y_rows,columns=['ID','TITLE','GENRE','DESCRIPTION'])"
   ]
  },
  {
   "cell_type": "code",
   "execution_count": 5,
   "id": "96f5759d-38f2-47ae-b3ec-1b8e34441f31",
   "metadata": {},
   "outputs": [
    {
     "data": {
      "text/html": [
       "<div>\n",
       "<style scoped>\n",
       "    .dataframe tbody tr th:only-of-type {\n",
       "        vertical-align: middle;\n",
       "    }\n",
       "\n",
       "    .dataframe tbody tr th {\n",
       "        vertical-align: top;\n",
       "    }\n",
       "\n",
       "    .dataframe thead th {\n",
       "        text-align: right;\n",
       "    }\n",
       "</style>\n",
       "<table border=\"1\" class=\"dataframe\">\n",
       "  <thead>\n",
       "    <tr style=\"text-align: right;\">\n",
       "      <th></th>\n",
       "      <th>ID</th>\n",
       "      <th>TITLE</th>\n",
       "      <th>GENRE</th>\n",
       "      <th>DESCRIPTION</th>\n",
       "    </tr>\n",
       "  </thead>\n",
       "  <tbody>\n",
       "    <tr>\n",
       "      <th>0</th>\n",
       "      <td>1</td>\n",
       "      <td>Oscar et la dame rose (2009)</td>\n",
       "      <td>drama</td>\n",
       "      <td>Listening in to a conversation between his do...</td>\n",
       "    </tr>\n",
       "    <tr>\n",
       "      <th>1</th>\n",
       "      <td>2</td>\n",
       "      <td>Cupid (1997)</td>\n",
       "      <td>thriller</td>\n",
       "      <td>A brother and sister with a past incestuous r...</td>\n",
       "    </tr>\n",
       "    <tr>\n",
       "      <th>2</th>\n",
       "      <td>3</td>\n",
       "      <td>Young, Wild and Wonderful (1980)</td>\n",
       "      <td>adult</td>\n",
       "      <td>As the bus empties the students for their fie...</td>\n",
       "    </tr>\n",
       "    <tr>\n",
       "      <th>3</th>\n",
       "      <td>4</td>\n",
       "      <td>The Secret Sin (1915)</td>\n",
       "      <td>drama</td>\n",
       "      <td>To help their unemployed father make ends mee...</td>\n",
       "    </tr>\n",
       "    <tr>\n",
       "      <th>4</th>\n",
       "      <td>5</td>\n",
       "      <td>The Unrecovered (2007)</td>\n",
       "      <td>drama</td>\n",
       "      <td>The film's title refers not only to the un-re...</td>\n",
       "    </tr>\n",
       "  </tbody>\n",
       "</table>\n",
       "</div>"
      ],
      "text/plain": [
       "   ID                               TITLE       GENRE  \\\n",
       "0  1        Oscar et la dame rose (2009)       drama    \n",
       "1  2                        Cupid (1997)    thriller    \n",
       "2  3    Young, Wild and Wonderful (1980)       adult    \n",
       "3  4               The Secret Sin (1915)       drama    \n",
       "4  5              The Unrecovered (2007)       drama    \n",
       "\n",
       "                                         DESCRIPTION  \n",
       "0   Listening in to a conversation between his do...  \n",
       "1   A brother and sister with a past incestuous r...  \n",
       "2   As the bus empties the students for their fie...  \n",
       "3   To help their unemployed father make ends mee...  \n",
       "4   The film's title refers not only to the un-re...  "
      ]
     },
     "execution_count": 5,
     "metadata": {},
     "output_type": "execute_result"
    }
   ],
   "source": [
    "train_df.head()"
   ]
  },
  {
   "cell_type": "code",
   "execution_count": 6,
   "id": "17ddf14c-b0df-401b-a479-99b26f4180db",
   "metadata": {},
   "outputs": [
    {
     "data": {
      "text/html": [
       "<div>\n",
       "<style scoped>\n",
       "    .dataframe tbody tr th:only-of-type {\n",
       "        vertical-align: middle;\n",
       "    }\n",
       "\n",
       "    .dataframe tbody tr th {\n",
       "        vertical-align: top;\n",
       "    }\n",
       "\n",
       "    .dataframe thead th {\n",
       "        text-align: right;\n",
       "    }\n",
       "</style>\n",
       "<table border=\"1\" class=\"dataframe\">\n",
       "  <thead>\n",
       "    <tr style=\"text-align: right;\">\n",
       "      <th></th>\n",
       "      <th>ID</th>\n",
       "      <th>TITLE</th>\n",
       "      <th>DESCRIPTION</th>\n",
       "    </tr>\n",
       "  </thead>\n",
       "  <tbody>\n",
       "    <tr>\n",
       "      <th>0</th>\n",
       "      <td>1</td>\n",
       "      <td>Edgar's Lunch (1998)</td>\n",
       "      <td>L.R. Brane loves his life - his car, his apar...</td>\n",
       "    </tr>\n",
       "    <tr>\n",
       "      <th>1</th>\n",
       "      <td>2</td>\n",
       "      <td>La guerra de papá (1977)</td>\n",
       "      <td>Spain, March 1964: Quico is a very naughty ch...</td>\n",
       "    </tr>\n",
       "    <tr>\n",
       "      <th>2</th>\n",
       "      <td>3</td>\n",
       "      <td>Off the Beaten Track (2010)</td>\n",
       "      <td>One year in the life of Albin and his family ...</td>\n",
       "    </tr>\n",
       "    <tr>\n",
       "      <th>3</th>\n",
       "      <td>4</td>\n",
       "      <td>Meu Amigo Hindu (2015)</td>\n",
       "      <td>His father has died, he hasn't spoken with hi...</td>\n",
       "    </tr>\n",
       "    <tr>\n",
       "      <th>4</th>\n",
       "      <td>5</td>\n",
       "      <td>Er nu zhai (1955)</td>\n",
       "      <td>Before he was known internationally as a mart...</td>\n",
       "    </tr>\n",
       "  </tbody>\n",
       "</table>\n",
       "</div>"
      ],
      "text/plain": [
       "   ID                          TITLE  \\\n",
       "0  1           Edgar's Lunch (1998)    \n",
       "1  2       La guerra de papá (1977)    \n",
       "2  3    Off the Beaten Track (2010)    \n",
       "3  4         Meu Amigo Hindu (2015)    \n",
       "4  5              Er nu zhai (1955)    \n",
       "\n",
       "                                         DESCRIPTION  \n",
       "0   L.R. Brane loves his life - his car, his apar...  \n",
       "1   Spain, March 1964: Quico is a very naughty ch...  \n",
       "2   One year in the life of Albin and his family ...  \n",
       "3   His father has died, he hasn't spoken with hi...  \n",
       "4   Before he was known internationally as a mart...  "
      ]
     },
     "execution_count": 6,
     "metadata": {},
     "output_type": "execute_result"
    }
   ],
   "source": [
    "test_X_df.head()"
   ]
  },
  {
   "cell_type": "code",
   "execution_count": 9,
   "id": "44d0b53f-b6d0-4d80-958c-9a6cd4b4cc0f",
   "metadata": {},
   "outputs": [
    {
     "data": {
      "text/html": [
       "<div>\n",
       "<style scoped>\n",
       "    .dataframe tbody tr th:only-of-type {\n",
       "        vertical-align: middle;\n",
       "    }\n",
       "\n",
       "    .dataframe tbody tr th {\n",
       "        vertical-align: top;\n",
       "    }\n",
       "\n",
       "    .dataframe thead th {\n",
       "        text-align: right;\n",
       "    }\n",
       "</style>\n",
       "<table border=\"1\" class=\"dataframe\">\n",
       "  <thead>\n",
       "    <tr style=\"text-align: right;\">\n",
       "      <th></th>\n",
       "      <th>ID</th>\n",
       "      <th>TITLE</th>\n",
       "      <th>GENRE</th>\n",
       "      <th>DESCRIPTION</th>\n",
       "    </tr>\n",
       "  </thead>\n",
       "  <tbody>\n",
       "    <tr>\n",
       "      <th>0</th>\n",
       "      <td>1</td>\n",
       "      <td>Edgar's Lunch (1998)</td>\n",
       "      <td>thriller</td>\n",
       "      <td>L.R. Brane loves his life - his car, his apar...</td>\n",
       "    </tr>\n",
       "    <tr>\n",
       "      <th>1</th>\n",
       "      <td>2</td>\n",
       "      <td>La guerra de papá (1977)</td>\n",
       "      <td>comedy</td>\n",
       "      <td>Spain, March 1964: Quico is a very naughty ch...</td>\n",
       "    </tr>\n",
       "    <tr>\n",
       "      <th>2</th>\n",
       "      <td>3</td>\n",
       "      <td>Off the Beaten Track (2010)</td>\n",
       "      <td>documentary</td>\n",
       "      <td>One year in the life of Albin and his family ...</td>\n",
       "    </tr>\n",
       "    <tr>\n",
       "      <th>3</th>\n",
       "      <td>4</td>\n",
       "      <td>Meu Amigo Hindu (2015)</td>\n",
       "      <td>drama</td>\n",
       "      <td>His father has died, he hasn't spoken with hi...</td>\n",
       "    </tr>\n",
       "    <tr>\n",
       "      <th>4</th>\n",
       "      <td>5</td>\n",
       "      <td>Er nu zhai (1955)</td>\n",
       "      <td>drama</td>\n",
       "      <td>Before he was known internationally as a mart...</td>\n",
       "    </tr>\n",
       "  </tbody>\n",
       "</table>\n",
       "</div>"
      ],
      "text/plain": [
       "   ID                          TITLE          GENRE  \\\n",
       "0  1           Edgar's Lunch (1998)       thriller    \n",
       "1  2       La guerra de papá (1977)         comedy    \n",
       "2  3    Off the Beaten Track (2010)    documentary    \n",
       "3  4         Meu Amigo Hindu (2015)          drama    \n",
       "4  5              Er nu zhai (1955)          drama    \n",
       "\n",
       "                                         DESCRIPTION  \n",
       "0   L.R. Brane loves his life - his car, his apar...  \n",
       "1   Spain, March 1964: Quico is a very naughty ch...  \n",
       "2   One year in the life of Albin and his family ...  \n",
       "3   His father has died, he hasn't spoken with hi...  \n",
       "4   Before he was known internationally as a mart...  "
      ]
     },
     "execution_count": 9,
     "metadata": {},
     "output_type": "execute_result"
    }
   ],
   "source": [
    "test_y_df.head()"
   ]
  },
  {
   "cell_type": "code",
   "execution_count": null,
   "id": "961a2740-ffe5-41a6-b7c1-5ff1430818dd",
   "metadata": {},
   "outputs": [],
   "source": []
  },
  {
   "cell_type": "code",
   "execution_count": null,
   "id": "dc8be91f-af2e-4fca-90cf-e2e705cd943b",
   "metadata": {},
   "outputs": [],
   "source": []
  },
  {
   "cell_type": "markdown",
   "id": "1c77f204-2826-4b06-ab7a-65bfa2651c5b",
   "metadata": {},
   "source": [
    "## Basic EDA"
   ]
  },
  {
   "cell_type": "code",
   "execution_count": 40,
   "id": "41c4af9e-5bd2-4617-b735-ac28424e6912",
   "metadata": {},
   "outputs": [],
   "source": [
    "vc = train_df['GENRE'].value_counts()"
   ]
  },
  {
   "cell_type": "code",
   "execution_count": 80,
   "id": "258b6688-648b-406c-93eb-eb0bbf605300",
   "metadata": {},
   "outputs": [
    {
     "data": {
      "text/plain": [
       "GENRE\n",
       " drama           13613\n",
       " documentary     13096\n",
       " comedy           7447\n",
       " short            5073\n",
       " horror           2204\n",
       " thriller         1591\n",
       " action           1315\n",
       " western          1032\n",
       " reality-tv        884\n",
       " family            784\n",
       " adventure         775\n",
       " music             731\n",
       " romance           672\n",
       " sci-fi            647\n",
       " adult             590\n",
       " crime             505\n",
       " animation         498\n",
       " sport             432\n",
       " talk-show         391\n",
       " fantasy           323\n",
       " mystery           319\n",
       " musical           277\n",
       " biography         265\n",
       " history           243\n",
       " game-show         194\n",
       " news              181\n",
       " war               132\n",
       "Name: count, dtype: int64"
      ]
     },
     "execution_count": 80,
     "metadata": {},
     "output_type": "execute_result"
    }
   ],
   "source": [
    "vc"
   ]
  },
  {
   "cell_type": "markdown",
   "id": "af3a05e9-6a20-48a2-b86b-7aafff4eb624",
   "metadata": {},
   "source": [
    "#### There are totally 27 genres.."
   ]
  },
  {
   "cell_type": "code",
   "execution_count": null,
   "id": "ae9227d8-410f-491a-a04b-2a94a9068f52",
   "metadata": {},
   "outputs": [],
   "source": []
  },
  {
   "cell_type": "code",
   "execution_count": 84,
   "id": "e51097ff-11d2-43d6-815d-d21c2247ddb0",
   "metadata": {},
   "outputs": [
    {
     "data": {
      "text/plain": [
       "<Axes: xlabel='count', ylabel='GENRE'>"
      ]
     },
     "execution_count": 84,
     "metadata": {},
     "output_type": "execute_result"
    },
    {
     "data": {
      "image/png": "[encoded data removed]",
      "text/plain": [
       "<Figure size 640x480 with 1 Axes>"
      ]
     },
     "metadata": {},
     "output_type": "display_data"
    }
   ],
   "source": [
    "sns.countplot(data=train_df,y='GENRE',order=vc.index[:10])"
   ]
  },
  {
   "cell_type": "markdown",
   "id": "159b1702-e207-41ec-bbbd-cfca822936a9",
   "metadata": {},
   "source": [
    "#### Top 10 genres based on count"
   ]
  },
  {
   "cell_type": "code",
   "execution_count": null,
   "id": "284f7422-a18b-4b6e-938d-87717008743e",
   "metadata": {},
   "outputs": [],
   "source": []
  },
  {
   "cell_type": "code",
   "execution_count": 213,
   "id": "89c6a787-ca74-474c-8355-6f302e976d21",
   "metadata": {},
   "outputs": [
    {
     "name": "stdout",
     "output_type": "stream",
     "text": [
      "DRAMA : 25.109750249013167%\n",
      "DOCUMENTARY : 24.156122034898736%\n"
     ]
    }
   ],
   "source": [
    "drama = 13613\n",
    "documentary = 13096\n",
    "total = 54214\n",
    "print(f\"DRAMA : {drama/total * 100}%\")\n",
    "print(f\"DOCUMENTARY : {documentary/total * 100}%\")"
   ]
  },
  {
   "cell_type": "markdown",
   "id": "4cb98744-d37e-48e5-a9bb-7e56fa0e71d9",
   "metadata": {},
   "source": [
    "#### Drama and documentary are the most genre for most of the films drama: 25% and documentary: 24%"
   ]
  },
  {
   "cell_type": "code",
   "execution_count": null,
   "id": "96166dc0-6b8e-4db5-b2b1-fc6c08f3330d",
   "metadata": {},
   "outputs": [],
   "source": []
  },
  {
   "cell_type": "code",
   "execution_count": 221,
   "id": "4f382c91-01d7-4227-96ba-a51518b8a539",
   "metadata": {},
   "outputs": [],
   "source": [
    "#for extracting the year from the movie title\n",
    "year_df = pd.DataFrame(train_df['TITLE'].str.strip().str.split(' ').apply(lambda x:x[-1].replace('(','').replace(')','')[:4])).rename(columns={\"TITLE\":\"YEAR\"})"
   ]
  },
  {
   "cell_type": "code",
   "execution_count": 223,
   "id": "414a6d1a-2abf-4f16-b9fb-1000f54eed89",
   "metadata": {},
   "outputs": [],
   "source": [
    "# To extract only the year instead of any other words\n",
    "def extract_year(text):\n",
    "    match = re.search(r'\\b(19|20)\\d{2}\\b', text)\n",
    "    return match.group(0) if match else np.nan"
   ]
  },
  {
   "cell_type": "code",
   "execution_count": 224,
   "id": "7b59d7f0-021a-491c-8bae-fa1c6b553a8c",
   "metadata": {},
   "outputs": [],
   "source": [
    "year_df['YEAR'] = year_df['YEAR'].apply(lambda x : extract_year(x))"
   ]
  },
  {
   "cell_type": "code",
   "execution_count": 225,
   "id": "b94f9645-225d-445f-bc3d-5ac836d1e9a0",
   "metadata": {},
   "outputs": [],
   "source": [
    "vc = year_df['YEAR'].value_counts()"
   ]
  },
  {
   "cell_type": "code",
   "execution_count": 226,
   "id": "26305e85-747f-4e5d-8015-bcd9c1d1d774",
   "metadata": {},
   "outputs": [
    {
     "data": {
      "text/plain": [
       "<Axes: xlabel='count', ylabel='YEAR'>"
      ]
     },
     "execution_count": 226,
     "metadata": {},
     "output_type": "execute_result"
    },
    {
     "data": {
      "image/png": "[encoded data removed]",
      "text/plain": [
       "<Figure size 640x480 with 1 Axes>"
      ]
     },
     "metadata": {},
     "output_type": "display_data"
    }
   ],
   "source": [
    "sns.countplot(data=year_df,y='YEAR',order=vc.index[:10])"
   ]
  },
  {
   "cell_type": "code",
   "execution_count": 220,
   "id": "12df5989-0e69-441e-863b-397830dc37a1",
   "metadata": {},
   "outputs": [
    {
     "name": "stdout",
     "output_type": "stream",
     "text": [
      "2016 : 6.040875050724905%\n",
      "2017 : 5.944958866713395%\n"
     ]
    }
   ],
   "source": [
    "total = 54214\n",
    "print(f\"2016 : {3275/total * 100}%\")\n",
    "print(f\"2017 : {3223/total * 100}%\")"
   ]
  },
  {
   "cell_type": "markdown",
   "id": "25ce73b9-a95e-4714-a9c4-26802abbdd86",
   "metadata": {},
   "source": [
    "#### Most of the films are in the year of 2016 and 2017 with percent of 6 and 5"
   ]
  },
  {
   "cell_type": "code",
   "execution_count": null,
   "id": "6a8c4be5-cf95-452a-bc78-f839b0fe1acf",
   "metadata": {},
   "outputs": [],
   "source": []
  },
  {
   "cell_type": "code",
   "execution_count": 230,
   "id": "8a809275-64b6-489b-a79d-5469283ebfa1",
   "metadata": {},
   "outputs": [],
   "source": [
    "year_df.dropna(inplace=True)"
   ]
  },
  {
   "cell_type": "code",
   "execution_count": 232,
   "id": "e1bfcb44-090b-4156-b3aa-5e17edb74966",
   "metadata": {},
   "outputs": [],
   "source": [
    "year_df['YEAR'] = year_df['YEAR'].astype('int')"
   ]
  },
  {
   "cell_type": "code",
   "execution_count": 234,
   "id": "805b01ea-11b8-444a-91a8-5160f08704b3",
   "metadata": {},
   "outputs": [
    {
     "name": "stderr",
     "output_type": "stream",
     "text": [
      "C:\\Users\\susil\\anaconda3\\Lib\\site-packages\\seaborn\\_oldcore.py:1119: FutureWarning: use_inf_as_na option is deprecated and will be removed in a future version. Convert inf values to NaN before operating instead.\n",
      "  with pd.option_context('mode.use_inf_as_na', True):\n"
     ]
    },
    {
     "data": {
      "text/plain": [
       "<seaborn.axisgrid.FacetGrid at 0x1e9572012d0>"
      ]
     },
     "execution_count": 234,
     "metadata": {},
     "output_type": "execute_result"
    },
    {
     "data": {
      "image/png": "[encoded data removed]",
      "text/plain": [
       "<Figure size 500x500 with 1 Axes>"
      ]
     },
     "metadata": {},
     "output_type": "display_data"
    }
   ],
   "source": [
    "sns.displot(year_df['YEAR'])"
   ]
  },
  {
   "cell_type": "markdown",
   "id": "f785a580-b029-4095-98f7-c36a41783ee1",
   "metadata": {},
   "source": [
    "#### With this distribution we basically could get that most of the films is around 2005 to 2020"
   ]
  },
  {
   "cell_type": "code",
   "execution_count": null,
   "id": "c8310b0e-2c67-425c-92b8-bc2843f42ee3",
   "metadata": {},
   "outputs": [],
   "source": []
  },
  {
   "cell_type": "code",
   "execution_count": null,
   "id": "dc32ed90-face-46cc-a435-1df6fb5a4579",
   "metadata": {},
   "outputs": [],
   "source": []
  },
  {
   "cell_type": "markdown",
   "id": "95b48a9e-5417-420e-905a-9c5c07c3c73e",
   "metadata": {},
   "source": [
    "## Preprocessing"
   ]
  },
  {
   "cell_type": "code",
   "execution_count": 6,
   "id": "dcc180e6-92a3-49d3-ba8a-53491d5fff0c",
   "metadata": {},
   "outputs": [
    {
     "data": {
      "text/plain": [
       "ID             0\n",
       "TITLE          0\n",
       "GENRE          0\n",
       "DESCRIPTION    0\n",
       "dtype: int64"
      ]
     },
     "execution_count": 6,
     "metadata": {},
     "output_type": "execute_result"
    }
   ],
   "source": [
    "train_df.isnull().sum()"
   ]
  },
  {
   "cell_type": "code",
   "execution_count": 7,
   "id": "eedcac84-cd71-412f-8ed8-80224b78890d",
   "metadata": {},
   "outputs": [
    {
     "data": {
      "text/plain": [
       "ID             0\n",
       "TITLE          0\n",
       "GENRE          0\n",
       "DESCRIPTION    0\n",
       "dtype: int64"
      ]
     },
     "execution_count": 7,
     "metadata": {},
     "output_type": "execute_result"
    }
   ],
   "source": [
    "test_y_df.isnull().sum()"
   ]
  },
  {
   "cell_type": "code",
   "execution_count": null,
   "id": "7baa5180-1ae9-469a-8bb4-84fe9cc9e9ed",
   "metadata": {},
   "outputs": [],
   "source": []
  },
  {
   "cell_type": "code",
   "execution_count": 6,
   "id": "362c11e3-6a01-4605-bbaf-ebe3a02e18b1",
   "metadata": {},
   "outputs": [],
   "source": [
    "df = pd.concat([train_df,test_y_df],axis=0)"
   ]
  },
  {
   "cell_type": "code",
   "execution_count": 6,
   "id": "505dd4d1-1994-4b58-8d9d-839aa878f7e8",
   "metadata": {},
   "outputs": [
    {
     "data": {
      "text/plain": [
       "(108414, 4)"
      ]
     },
     "execution_count": 6,
     "metadata": {},
     "output_type": "execute_result"
    }
   ],
   "source": [
    "df.shape"
   ]
  },
  {
   "cell_type": "code",
   "execution_count": 7,
   "id": "88ee5b04-10c4-47d9-91fc-de317047e3e8",
   "metadata": {},
   "outputs": [],
   "source": [
    "df.reset_index(drop=True,inplace=True)"
   ]
  },
  {
   "cell_type": "code",
   "execution_count": 8,
   "id": "fef54ed9-bbb7-4219-98b6-ee049029d1c4",
   "metadata": {},
   "outputs": [
    {
     "data": {
      "text/html": [
       "<div>\n",
       "<style scoped>\n",
       "    .dataframe tbody tr th:only-of-type {\n",
       "        vertical-align: middle;\n",
       "    }\n",
       "\n",
       "    .dataframe tbody tr th {\n",
       "        vertical-align: top;\n",
       "    }\n",
       "\n",
       "    .dataframe thead th {\n",
       "        text-align: right;\n",
       "    }\n",
       "</style>\n",
       "<table border=\"1\" class=\"dataframe\">\n",
       "  <thead>\n",
       "    <tr style=\"text-align: right;\">\n",
       "      <th></th>\n",
       "      <th>ID</th>\n",
       "      <th>TITLE</th>\n",
       "      <th>GENRE</th>\n",
       "      <th>DESCRIPTION</th>\n",
       "    </tr>\n",
       "  </thead>\n",
       "  <tbody>\n",
       "    <tr>\n",
       "      <th>0</th>\n",
       "      <td>1</td>\n",
       "      <td>Oscar et la dame rose (2009)</td>\n",
       "      <td>drama</td>\n",
       "      <td>Listening in to a conversation between his do...</td>\n",
       "    </tr>\n",
       "    <tr>\n",
       "      <th>1</th>\n",
       "      <td>2</td>\n",
       "      <td>Cupid (1997)</td>\n",
       "      <td>thriller</td>\n",
       "      <td>A brother and sister with a past incestuous r...</td>\n",
       "    </tr>\n",
       "    <tr>\n",
       "      <th>2</th>\n",
       "      <td>3</td>\n",
       "      <td>Young, Wild and Wonderful (1980)</td>\n",
       "      <td>adult</td>\n",
       "      <td>As the bus empties the students for their fie...</td>\n",
       "    </tr>\n",
       "    <tr>\n",
       "      <th>3</th>\n",
       "      <td>4</td>\n",
       "      <td>The Secret Sin (1915)</td>\n",
       "      <td>drama</td>\n",
       "      <td>To help their unemployed father make ends mee...</td>\n",
       "    </tr>\n",
       "    <tr>\n",
       "      <th>4</th>\n",
       "      <td>5</td>\n",
       "      <td>The Unrecovered (2007)</td>\n",
       "      <td>drama</td>\n",
       "      <td>The film's title refers not only to the un-re...</td>\n",
       "    </tr>\n",
       "  </tbody>\n",
       "</table>\n",
       "</div>"
      ],
      "text/plain": [
       "   ID                               TITLE       GENRE  \\\n",
       "0  1        Oscar et la dame rose (2009)       drama    \n",
       "1  2                        Cupid (1997)    thriller    \n",
       "2  3    Young, Wild and Wonderful (1980)       adult    \n",
       "3  4               The Secret Sin (1915)       drama    \n",
       "4  5              The Unrecovered (2007)       drama    \n",
       "\n",
       "                                         DESCRIPTION  \n",
       "0   Listening in to a conversation between his do...  \n",
       "1   A brother and sister with a past incestuous r...  \n",
       "2   As the bus empties the students for their fie...  \n",
       "3   To help their unemployed father make ends mee...  \n",
       "4   The film's title refers not only to the un-re...  "
      ]
     },
     "execution_count": 8,
     "metadata": {},
     "output_type": "execute_result"
    }
   ],
   "source": [
    "df.head()"
   ]
  },
  {
   "cell_type": "code",
   "execution_count": 9,
   "id": "65ce6d56-d802-4b97-9563-ac555b41c5c3",
   "metadata": {},
   "outputs": [],
   "source": [
    "df['GENRE_ENCODED'] = label_encoder.fit_transform(df['GENRE'])"
   ]
  },
  {
   "cell_type": "code",
   "execution_count": 10,
   "id": "816c9baa-f83e-453e-8504-edf88ed09155",
   "metadata": {},
   "outputs": [],
   "source": [
    "def lower(text):\n",
    "    return text.lower()"
   ]
  },
  {
   "cell_type": "code",
   "execution_count": 11,
   "id": "68ad0251-1c75-4f43-8a20-7423573e0837",
   "metadata": {},
   "outputs": [],
   "source": [
    "stop_words = stopwords.words('english')"
   ]
  },
  {
   "cell_type": "code",
   "execution_count": 12,
   "id": "d65d799b-55e5-49aa-875c-e53eacf19519",
   "metadata": {},
   "outputs": [],
   "source": [
    "def preprocessing(text):\n",
    "    text = lower(text)\n",
    "    corpus = [wnl.lemmatize(word,pos='v') for word in word_tokenize(text,'english') if word not in stop_words]\n",
    "    corpus = [i.replace(',','').replace('.','') for i in corpus]\n",
    "    return ' '.join(corpus)"
   ]
  },
  {
   "cell_type": "code",
   "execution_count": 13,
   "id": "917cbb39-4485-4f25-ac38-33d2c4e462e4",
   "metadata": {},
   "outputs": [],
   "source": [
    "df['DESCRIPTION'] = df['DESCRIPTION'].apply(lambda x: preprocessing(x))"
   ]
  },
  {
   "cell_type": "code",
   "execution_count": 14,
   "id": "8ddeab23-2a06-4b91-812d-85b699361f42",
   "metadata": {},
   "outputs": [
    {
     "data": {
      "text/plain": [
       "'listen conversation doctor parent  10-year-old oscar learn nobody courage tell  weeks live  furious  refuse speak anyone except straight-talking rise  lady pink meet hospital stairs  christmas approach  rise use fantastical experience professional wrestler  imagination  wit charm allow oscar live life love full  company friends pop corn  einstein  bacon childhood sweetheart peggy blue '"
      ]
     },
     "execution_count": 14,
     "metadata": {},
     "output_type": "execute_result"
    }
   ],
   "source": [
    "df['DESCRIPTION'][0]"
   ]
  },
  {
   "cell_type": "code",
   "execution_count": null,
   "id": "6f00e3c8-84a0-458f-b46e-2829946313df",
   "metadata": {},
   "outputs": [],
   "source": []
  },
  {
   "cell_type": "code",
   "execution_count": null,
   "id": "6adae921-1d11-4011-a734-49708050808d",
   "metadata": {},
   "outputs": [],
   "source": []
  },
  {
   "cell_type": "markdown",
   "id": "b5df60ab-a036-4a56-8398-b31310eca7c0",
   "metadata": {},
   "source": [
    "## Vectorzing"
   ]
  },
  {
   "cell_type": "code",
   "execution_count": 15,
   "id": "4a529e1c-ac22-4ab4-b170-3559daae0796",
   "metadata": {},
   "outputs": [
    {
     "data": {
      "text/html": [
       "<div>\n",
       "<style scoped>\n",
       "    .dataframe tbody tr th:only-of-type {\n",
       "        vertical-align: middle;\n",
       "    }\n",
       "\n",
       "    .dataframe tbody tr th {\n",
       "        vertical-align: top;\n",
       "    }\n",
       "\n",
       "    .dataframe thead th {\n",
       "        text-align: right;\n",
       "    }\n",
       "</style>\n",
       "<table border=\"1\" class=\"dataframe\">\n",
       "  <thead>\n",
       "    <tr style=\"text-align: right;\">\n",
       "      <th></th>\n",
       "      <th>ID</th>\n",
       "      <th>TITLE</th>\n",
       "      <th>GENRE</th>\n",
       "      <th>DESCRIPTION</th>\n",
       "      <th>GENRE_ENCODED</th>\n",
       "    </tr>\n",
       "  </thead>\n",
       "  <tbody>\n",
       "    <tr>\n",
       "      <th>0</th>\n",
       "      <td>1</td>\n",
       "      <td>Oscar et la dame rose (2009)</td>\n",
       "      <td>drama</td>\n",
       "      <td>listen conversation doctor parent  10-year-old...</td>\n",
       "      <td>8</td>\n",
       "    </tr>\n",
       "    <tr>\n",
       "      <th>1</th>\n",
       "      <td>2</td>\n",
       "      <td>Cupid (1997)</td>\n",
       "      <td>thriller</td>\n",
       "      <td>brother sister past incestuous relationship cu...</td>\n",
       "      <td>24</td>\n",
       "    </tr>\n",
       "    <tr>\n",
       "      <th>2</th>\n",
       "      <td>3</td>\n",
       "      <td>Young, Wild and Wonderful (1980)</td>\n",
       "      <td>adult</td>\n",
       "      <td>bus empty students field trip museum natural h...</td>\n",
       "      <td>1</td>\n",
       "    </tr>\n",
       "    <tr>\n",
       "      <th>3</th>\n",
       "      <td>4</td>\n",
       "      <td>The Secret Sin (1915)</td>\n",
       "      <td>drama</td>\n",
       "      <td>help unemployed father make end meet  edith tw...</td>\n",
       "      <td>8</td>\n",
       "    </tr>\n",
       "    <tr>\n",
       "      <th>4</th>\n",
       "      <td>5</td>\n",
       "      <td>The Unrecovered (2007)</td>\n",
       "      <td>drama</td>\n",
       "      <td>film 's title refer un-recovered body grind ze...</td>\n",
       "      <td>8</td>\n",
       "    </tr>\n",
       "  </tbody>\n",
       "</table>\n",
       "</div>"
      ],
      "text/plain": [
       "   ID                               TITLE       GENRE  \\\n",
       "0  1        Oscar et la dame rose (2009)       drama    \n",
       "1  2                        Cupid (1997)    thriller    \n",
       "2  3    Young, Wild and Wonderful (1980)       adult    \n",
       "3  4               The Secret Sin (1915)       drama    \n",
       "4  5              The Unrecovered (2007)       drama    \n",
       "\n",
       "                                         DESCRIPTION  GENRE_ENCODED  \n",
       "0  listen conversation doctor parent  10-year-old...              8  \n",
       "1  brother sister past incestuous relationship cu...             24  \n",
       "2  bus empty students field trip museum natural h...              1  \n",
       "3  help unemployed father make end meet  edith tw...              8  \n",
       "4  film 's title refer un-recovered body grind ze...              8  "
      ]
     },
     "execution_count": 15,
     "metadata": {},
     "output_type": "execute_result"
    }
   ],
   "source": [
    "df.head()"
   ]
  },
  {
   "cell_type": "code",
   "execution_count": 16,
   "id": "20fb4ddf-a2bf-4fa7-9e79-8940e2c1ed3e",
   "metadata": {},
   "outputs": [],
   "source": [
    "X = df['DESCRIPTION']\n",
    "y = df['GENRE_ENCODED']"
   ]
  },
  {
   "cell_type": "code",
   "execution_count": 17,
   "id": "a62554e0-e118-4dbb-aa71-f15d644e02b2",
   "metadata": {},
   "outputs": [],
   "source": [
    "X_train, X_test, y_train, y_test = train_test_split(X, y, test_size=0.33, random_state=42)"
   ]
  },
  {
   "cell_type": "code",
   "execution_count": 18,
   "id": "3d102e4b-a250-48f9-9413-7d204d819ceb",
   "metadata": {},
   "outputs": [],
   "source": [
    "vector_X_train = vectorizer.fit_transform(X_train)\n",
    "vector_X_test = vectorizer.transform(X_test)"
   ]
  },
  {
   "cell_type": "code",
   "execution_count": 19,
   "id": "22508177-7f4e-4de0-be8f-14d0475e6072",
   "metadata": {},
   "outputs": [],
   "source": [
    "from sklearn.linear_model import LogisticRegression\n",
    "from sklearn.tree import DecisionTreeClassifier\n",
    "from sklearn.ensemble import RandomForestClassifier\n",
    "from sklearn.naive_bayes import MultinomialNB\n",
    "from sklearn.svm import SVC\n",
    "svc = SVC()\n",
    "lr = LogisticRegression(n_jobs=1,max_iter=1000)\n",
    "dtc = DecisionTreeClassifier()\n",
    "rfc = RandomForestClassifier()\n",
    "mnb = MultinomialNB()"
   ]
  },
  {
   "cell_type": "code",
   "execution_count": 20,
   "id": "44832bf0-105a-4559-add9-bba8b93cd5e9",
   "metadata": {},
   "outputs": [],
   "source": [
    "algo = {\n",
    "    \"logistic regression\":LogisticRegression(max_iter=1000),\n",
    "    \"DecisionTreeClassifier\":DecisionTreeClassifier(),\n",
    "    \"RandomForestClassifier\":RandomForestClassifier(),\n",
    "    \"MultinomialNB\":MultinomialNB() \n",
    "}"
   ]
  },
  {
   "cell_type": "code",
   "execution_count": 52,
   "id": "d105cd3e-926f-45c4-8ec4-35c668564b48",
   "metadata": {},
   "outputs": [
    {
     "name": "stderr",
     "output_type": "stream",
     "text": [
      " 25%|█████████████████████                                                               | 1/4 [01:00<03:02, 60.91s/it]"
     ]
    },
    {
     "name": "stdout",
     "output_type": "stream",
     "text": [
      "logistic regression completed\n"
     ]
    },
    {
     "name": "stderr",
     "output_type": "stream",
     "text": [
      " 50%|█████████████████████████████████████████▌                                         | 2/4 [03:25<03:40, 110.39s/it]"
     ]
    },
    {
     "name": "stdout",
     "output_type": "stream",
     "text": [
      "DecisionTreeClassifier completed\n"
     ]
    },
    {
     "name": "stderr",
     "output_type": "stream",
     "text": [
      "100%|███████████████████████████████████████████████████████████████████████████████████| 4/4 [10:24<00:00, 156.07s/it]"
     ]
    },
    {
     "name": "stdout",
     "output_type": "stream",
     "text": [
      "RandomForestClassifier completed\n",
      "MultinomialNB completed\n"
     ]
    },
    {
     "name": "stderr",
     "output_type": "stream",
     "text": [
      "\n"
     ]
    }
   ],
   "source": [
    "predicted_scores = {}\n",
    "for key,alg in tqdm(algo.items()):\n",
    "    alg.fit(vector_X_train,y_train)\n",
    "    y_pred = alg.predict(vector_X_test)\n",
    "    score = accuracy_score(y_test,y_pred)\n",
    "    predicted_scores[key] = score\n",
    "    print(f\"{key} completed\")"
   ]
  },
  {
   "cell_type": "code",
   "execution_count": 54,
   "id": "45bf9917-82fa-4d1e-b170-653308c858f1",
   "metadata": {},
   "outputs": [
    {
     "name": "stdout",
     "output_type": "stream",
     "text": [
      "logistic regression: 0.5964166922883417\n",
      "\n",
      "DecisionTreeClassifier: 0.36288677083042176\n",
      "\n",
      "RandomForestClassifier: 0.5028090672778601\n",
      "\n",
      "MultinomialNB: 0.5329681080023478\n",
      "\n"
     ]
    }
   ],
   "source": [
    "for algo,acc in predicted_scores.items():\n",
    "    print(f\"{algo}: {acc}\\n\")"
   ]
  },
  {
   "cell_type": "code",
   "execution_count": 21,
   "id": "f1e1a531-825d-46f0-b91f-717e87ee4902",
   "metadata": {},
   "outputs": [
    {
     "data": {
      "text/html": [
       "<style>#sk-container-id-1 {color: black;background-color: white;}#sk-container-id-1 pre{padding: 0;}#sk-container-id-1 div.sk-toggleable {background-color: white;}#sk-container-id-1 label.sk-toggleable__label {cursor: pointer;display: block;width: 100%;margin-bottom: 0;padding: 0.3em;box-sizing: border-box;text-align: center;}#sk-container-id-1 label.sk-toggleable__label-arrow:before {content: \"▸\";float: left;margin-right: 0.25em;color: #696969;}#sk-container-id-1 label.sk-toggleable__label-arrow:hover:before {color: black;}#sk-container-id-1 div.sk-estimator:hover label.sk-toggleable__label-arrow:before {color: black;}#sk-container-id-1 div.sk-toggleable__content {max-height: 0;max-width: 0;overflow: hidden;text-align: left;background-color: #f0f8ff;}#sk-container-id-1 div.sk-toggleable__content pre {margin: 0.2em;color: black;border-radius: 0.25em;background-color: #f0f8ff;}#sk-container-id-1 input.sk-toggleable__control:checked~div.sk-toggleable__content {max-height: 200px;max-width: 100%;overflow: auto;}#sk-container-id-1 input.sk-toggleable__control:checked~label.sk-toggleable__label-arrow:before {content: \"▾\";}#sk-container-id-1 div.sk-estimator input.sk-toggleable__control:checked~label.sk-toggleable__label {background-color: #d4ebff;}#sk-container-id-1 div.sk-label input.sk-toggleable__control:checked~label.sk-toggleable__label {background-color: #d4ebff;}#sk-container-id-1 input.sk-hidden--visually {border: 0;clip: rect(1px 1px 1px 1px);clip: rect(1px, 1px, 1px, 1px);height: 1px;margin: -1px;overflow: hidden;padding: 0;position: absolute;width: 1px;}#sk-container-id-1 div.sk-estimator {font-family: monospace;background-color: #f0f8ff;border: 1px dotted black;border-radius: 0.25em;box-sizing: border-box;margin-bottom: 0.5em;}#sk-container-id-1 div.sk-estimator:hover {background-color: #d4ebff;}#sk-container-id-1 div.sk-parallel-item::after {content: \"\";width: 100%;border-bottom: 1px solid gray;flex-grow: 1;}#sk-container-id-1 div.sk-label:hover label.sk-toggleable__label {background-color: #d4ebff;}#sk-container-id-1 div.sk-serial::before {content: \"\";position: absolute;border-left: 1px solid gray;box-sizing: border-box;top: 0;bottom: 0;left: 50%;z-index: 0;}#sk-container-id-1 div.sk-serial {display: flex;flex-direction: column;align-items: center;background-color: white;padding-right: 0.2em;padding-left: 0.2em;position: relative;}#sk-container-id-1 div.sk-item {position: relative;z-index: 1;}#sk-container-id-1 div.sk-parallel {display: flex;align-items: stretch;justify-content: center;background-color: white;position: relative;}#sk-container-id-1 div.sk-item::before, #sk-container-id-1 div.sk-parallel-item::before {content: \"\";position: absolute;border-left: 1px solid gray;box-sizing: border-box;top: 0;bottom: 0;left: 50%;z-index: -1;}#sk-container-id-1 div.sk-parallel-item {display: flex;flex-direction: column;z-index: 1;position: relative;background-color: white;}#sk-container-id-1 div.sk-parallel-item:first-child::after {align-self: flex-end;width: 50%;}#sk-container-id-1 div.sk-parallel-item:last-child::after {align-self: flex-start;width: 50%;}#sk-container-id-1 div.sk-parallel-item:only-child::after {width: 0;}#sk-container-id-1 div.sk-dashed-wrapped {border: 1px dashed gray;margin: 0 0.4em 0.5em 0.4em;box-sizing: border-box;padding-bottom: 0.4em;background-color: white;}#sk-container-id-1 div.sk-label label {font-family: monospace;font-weight: bold;display: inline-block;line-height: 1.2em;}#sk-container-id-1 div.sk-label-container {text-align: center;}#sk-container-id-1 div.sk-container {/* jupyter's `normalize.less` sets `[hidden] { display: none; }` but bootstrap.min.css set `[hidden] { display: none !important; }` so we also need the `!important` here to be able to override the default hidden behavior on the sphinx rendered scikit-learn.org. See: https://github.com/scikit-learn/scikit-learn/issues/21755 */display: inline-block !important;position: relative;}#sk-container-id-1 div.sk-text-repr-fallback {display: none;}</style><div id=\"sk-container-id-1\" class=\"sk-top-container\"><div class=\"sk-text-repr-fallback\"><pre>LogisticRegression(max_iter=1000, n_jobs=1)</pre><b>In a Jupyter environment, please rerun this cell to show the HTML representation or trust the notebook. <br />On GitHub, the HTML representation is unable to render, please try loading this page with nbviewer.org.</b></div><div class=\"sk-container\" hidden><div class=\"sk-item\"><div class=\"sk-estimator sk-toggleable\"><input class=\"sk-toggleable__control sk-hidden--visually\" id=\"sk-estimator-id-1\" type=\"checkbox\" checked><label for=\"sk-estimator-id-1\" class=\"sk-toggleable__label sk-toggleable__label-arrow\">LogisticRegression</label><div class=\"sk-toggleable__content\"><pre>LogisticRegression(max_iter=1000, n_jobs=1)</pre></div></div></div></div></div>"
      ],
      "text/plain": [
       "LogisticRegression(max_iter=1000, n_jobs=1)"
      ]
     },
     "execution_count": 21,
     "metadata": {},
     "output_type": "execute_result"
    }
   ],
   "source": [
    "lr.fit(vector_X_train,y_train)"
   ]
  },
  {
   "cell_type": "code",
   "execution_count": 22,
   "id": "cffee0c8-7f56-4516-9ea9-8e3d8687ea04",
   "metadata": {},
   "outputs": [
    {
     "data": {
      "text/plain": [
       "0.6658039291270289"
      ]
     },
     "execution_count": 22,
     "metadata": {},
     "output_type": "execute_result"
    }
   ],
   "source": [
    "accuracy_score(y_train,lr.predict(vector_X_train))"
   ]
  },
  {
   "cell_type": "code",
   "execution_count": 23,
   "id": "a3035784-118b-44a9-9814-5d138b5cd4cb",
   "metadata": {},
   "outputs": [
    {
     "data": {
      "text/plain": [
       "0.5964166922883417"
      ]
     },
     "execution_count": 23,
     "metadata": {},
     "output_type": "execute_result"
    }
   ],
   "source": [
    "accuracy_score(y_test,lr.predict(vector_X_test))"
   ]
  },
  {
   "cell_type": "code",
   "execution_count": null,
   "id": "b4805883-d709-4808-acf5-1e988810b08a",
   "metadata": {},
   "outputs": [],
   "source": []
  },
  {
   "cell_type": "code",
   "execution_count": 24,
   "id": "446022d9-52f8-4a00-8c17-562683524d60",
   "metadata": {},
   "outputs": [
    {
     "data": {
      "text/html": [
       "<style>#sk-container-id-2 {color: black;background-color: white;}#sk-container-id-2 pre{padding: 0;}#sk-container-id-2 div.sk-toggleable {background-color: white;}#sk-container-id-2 label.sk-toggleable__label {cursor: pointer;display: block;width: 100%;margin-bottom: 0;padding: 0.3em;box-sizing: border-box;text-align: center;}#sk-container-id-2 label.sk-toggleable__label-arrow:before {content: \"▸\";float: left;margin-right: 0.25em;color: #696969;}#sk-container-id-2 label.sk-toggleable__label-arrow:hover:before {color: black;}#sk-container-id-2 div.sk-estimator:hover label.sk-toggleable__label-arrow:before {color: black;}#sk-container-id-2 div.sk-toggleable__content {max-height: 0;max-width: 0;overflow: hidden;text-align: left;background-color: #f0f8ff;}#sk-container-id-2 div.sk-toggleable__content pre {margin: 0.2em;color: black;border-radius: 0.25em;background-color: #f0f8ff;}#sk-container-id-2 input.sk-toggleable__control:checked~div.sk-toggleable__content {max-height: 200px;max-width: 100%;overflow: auto;}#sk-container-id-2 input.sk-toggleable__control:checked~label.sk-toggleable__label-arrow:before {content: \"▾\";}#sk-container-id-2 div.sk-estimator input.sk-toggleable__control:checked~label.sk-toggleable__label {background-color: #d4ebff;}#sk-container-id-2 div.sk-label input.sk-toggleable__control:checked~label.sk-toggleable__label {background-color: #d4ebff;}#sk-container-id-2 input.sk-hidden--visually {border: 0;clip: rect(1px 1px 1px 1px);clip: rect(1px, 1px, 1px, 1px);height: 1px;margin: -1px;overflow: hidden;padding: 0;position: absolute;width: 1px;}#sk-container-id-2 div.sk-estimator {font-family: monospace;background-color: #f0f8ff;border: 1px dotted black;border-radius: 0.25em;box-sizing: border-box;margin-bottom: 0.5em;}#sk-container-id-2 div.sk-estimator:hover {background-color: #d4ebff;}#sk-container-id-2 div.sk-parallel-item::after {content: \"\";width: 100%;border-bottom: 1px solid gray;flex-grow: 1;}#sk-container-id-2 div.sk-label:hover label.sk-toggleable__label {background-color: #d4ebff;}#sk-container-id-2 div.sk-serial::before {content: \"\";position: absolute;border-left: 1px solid gray;box-sizing: border-box;top: 0;bottom: 0;left: 50%;z-index: 0;}#sk-container-id-2 div.sk-serial {display: flex;flex-direction: column;align-items: center;background-color: white;padding-right: 0.2em;padding-left: 0.2em;position: relative;}#sk-container-id-2 div.sk-item {position: relative;z-index: 1;}#sk-container-id-2 div.sk-parallel {display: flex;align-items: stretch;justify-content: center;background-color: white;position: relative;}#sk-container-id-2 div.sk-item::before, #sk-container-id-2 div.sk-parallel-item::before {content: \"\";position: absolute;border-left: 1px solid gray;box-sizing: border-box;top: 0;bottom: 0;left: 50%;z-index: -1;}#sk-container-id-2 div.sk-parallel-item {display: flex;flex-direction: column;z-index: 1;position: relative;background-color: white;}#sk-container-id-2 div.sk-parallel-item:first-child::after {align-self: flex-end;width: 50%;}#sk-container-id-2 div.sk-parallel-item:last-child::after {align-self: flex-start;width: 50%;}#sk-container-id-2 div.sk-parallel-item:only-child::after {width: 0;}#sk-container-id-2 div.sk-dashed-wrapped {border: 1px dashed gray;margin: 0 0.4em 0.5em 0.4em;box-sizing: border-box;padding-bottom: 0.4em;background-color: white;}#sk-container-id-2 div.sk-label label {font-family: monospace;font-weight: bold;display: inline-block;line-height: 1.2em;}#sk-container-id-2 div.sk-label-container {text-align: center;}#sk-container-id-2 div.sk-container {/* jupyter's `normalize.less` sets `[hidden] { display: none; }` but bootstrap.min.css set `[hidden] { display: none !important; }` so we also need the `!important` here to be able to override the default hidden behavior on the sphinx rendered scikit-learn.org. See: https://github.com/scikit-learn/scikit-learn/issues/21755 */display: inline-block !important;position: relative;}#sk-container-id-2 div.sk-text-repr-fallback {display: none;}</style><div id=\"sk-container-id-2\" class=\"sk-top-container\"><div class=\"sk-text-repr-fallback\"><pre>MultinomialNB()</pre><b>In a Jupyter environment, please rerun this cell to show the HTML representation or trust the notebook. <br />On GitHub, the HTML representation is unable to render, please try loading this page with nbviewer.org.</b></div><div class=\"sk-container\" hidden><div class=\"sk-item\"><div class=\"sk-estimator sk-toggleable\"><input class=\"sk-toggleable__control sk-hidden--visually\" id=\"sk-estimator-id-2\" type=\"checkbox\" checked><label for=\"sk-estimator-id-2\" class=\"sk-toggleable__label sk-toggleable__label-arrow\">MultinomialNB</label><div class=\"sk-toggleable__content\"><pre>MultinomialNB()</pre></div></div></div></div></div>"
      ],
      "text/plain": [
       "MultinomialNB()"
      ]
     },
     "execution_count": 24,
     "metadata": {},
     "output_type": "execute_result"
    }
   ],
   "source": [
    "mnb.fit(vector_X_train,y_train)"
   ]
  },
  {
   "cell_type": "code",
   "execution_count": 25,
   "id": "6c55f83d-7456-4c15-8e10-a94381b51f29",
   "metadata": {},
   "outputs": [
    {
     "data": {
      "text/plain": [
       "0.5512479865633217"
      ]
     },
     "execution_count": 25,
     "metadata": {},
     "output_type": "execute_result"
    }
   ],
   "source": [
    "accuracy_score(y_train,mnb.predict(vector_X_train))"
   ]
  },
  {
   "cell_type": "code",
   "execution_count": 26,
   "id": "ef55d3b5-59cb-4fcd-87a2-2e6ea5fde04c",
   "metadata": {},
   "outputs": [
    {
     "data": {
      "text/plain": [
       "0.5329681080023478"
      ]
     },
     "execution_count": 26,
     "metadata": {},
     "output_type": "execute_result"
    }
   ],
   "source": [
    "accuracy_score(y_test,mnb.predict(vector_X_test))"
   ]
  },
  {
   "cell_type": "markdown",
   "id": "c50e016f-65fb-4675-9d0f-9b14fe63961a",
   "metadata": {},
   "source": [
    "#### We could see logistic regression is overfitting we go for mulitnomial nb"
   ]
  },
  {
   "cell_type": "code",
   "execution_count": 67,
   "id": "397e9a53-ae6e-46e6-8aea-04aea8e2630e",
   "metadata": {},
   "outputs": [
    {
     "data": {
      "text/plain": [
       "array([' action ', ' adult ', ' adventure ', ' animation ', ' biography ',\n",
       "       ' comedy ', ' crime ', ' documentary ', ' drama ', ' family ',\n",
       "       ' fantasy ', ' game-show ', ' history ', ' horror ', ' music ',\n",
       "       ' musical ', ' mystery ', ' news ', ' reality-tv ', ' romance ',\n",
       "       ' sci-fi ', ' short ', ' sport ', ' talk-show ', ' thriller ',\n",
       "       ' war ', ' western '], dtype=object)"
      ]
     },
     "execution_count": 67,
     "metadata": {},
     "output_type": "execute_result"
    }
   ],
   "source": [
    "label_encoder.classes_"
   ]
  },
  {
   "cell_type": "code",
   "execution_count": 35,
   "id": "91721182-29f0-4ed2-855e-2f5391901141",
   "metadata": {},
   "outputs": [
    {
     "name": "stdin",
     "output_type": "stream",
     "text": [
      "Enter movie name:  red notice\n",
      "Enter movie plot:  Red Notice is a 2021 American action comedy film written and directed by Rawson Marshall Thurber starring Dwayne Johnson alongside Ryan Reynolds, Gal Gadot and Ritu Arya. It marks the third collaboration between Thurber and Johnson, following Central Intelligence (2016) and Skyscraper (2018). In the film, an FBI agent reluctantly teams up with a renowned art thief in order to catch an even more notorious thief.\n"
     ]
    },
    {
     "name": "stdout",
     "output_type": "stream",
     "text": [
      "Movie name: red notice is  comedy  genre.\n"
     ]
    }
   ],
   "source": [
    "m_name = input(\"Enter movie name: \")\n",
    "m_plot = input(\"Enter movie plot: \")\n",
    "preprocessed = preprocessing(m_plot)\n",
    "vec = vectorizer.transform([preprocessed])\n",
    "pred = mnb.predict(vec)\n",
    "print(f\"Movie name: {m_name} is {label_encoder.inverse_transform(pred)[0]} genre.\")"
   ]
  }
 ],
 "metadata": {
  "kernelspec": {
   "display_name": "Python 3 (ipykernel)",
   "language": "python",
   "name": "python3"
  },
  "language_info": {
   "codemirror_mode": {
    "name": "ipython",
    "version": 3
   },
   "file_extension": ".py",
   "mimetype": "text/x-python",
   "name": "python",
   "nbconvert_exporter": "python",
   "pygments_lexer": "ipython3",
   "version": "3.11.7"
  }
 },
 "nbformat": 4,
 "nbformat_minor": 5
}
